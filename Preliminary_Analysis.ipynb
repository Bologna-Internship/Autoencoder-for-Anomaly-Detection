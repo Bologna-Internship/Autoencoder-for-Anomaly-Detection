{
  "nbformat": 4,
  "nbformat_minor": 0,
  "metadata": {
    "colab": {
      "name": "Preliminary-Analysis.ipynb",
      "provenance": [],
      "collapsed_sections": [
        "WdcuT-sXgzJQ"
      ],
      "toc_visible": true,
      "include_colab_link": true
    },
    "kernelspec": {
      "name": "python3",
      "display_name": "Python 3"
    },
    "language_info": {
      "name": "python"
    }
  },
  "cells": [
    {
      "cell_type": "markdown",
      "metadata": {
        "id": "view-in-github",
        "colab_type": "text"
      },
      "source": [
        "<a href=\"https://colab.research.google.com/github/Bologna-Internship/Autoencoder-for-Anomaly-Detection/blob/main/Preliminary_Analysis.ipynb\" target=\"_parent\"><img src=\"https://colab.research.google.com/assets/colab-badge.svg\" alt=\"Open In Colab\"/></a>"
      ]
    },
    {
      "cell_type": "markdown",
      "metadata": {
        "id": "yKq8yjFCemS1"
      },
      "source": [
        "# Bologna Internship Preliminary - Code\n",
        "\n",
        "## Furkan Atasoy and Zehranaz Canfes"
      ]
    },
    {
      "cell_type": "markdown",
      "metadata": {
        "id": "NqBxbyaVNG7a"
      },
      "source": [
        "# Import Libraries"
      ]
    },
    {
      "cell_type": "code",
      "metadata": {
        "id": "wM_log_p4Mxg"
      },
      "source": [
        "import pandas as pd\n",
        "import numpy as np\n",
        "import matplotlib.pyplot as plt\n",
        "import os\n",
        "from datetime import datetime\n",
        "from scipy import stats"
      ],
      "execution_count": null,
      "outputs": []
    },
    {
      "cell_type": "code",
      "metadata": {
        "id": "sf3w_eCRRSWb",
        "colab": {
          "base_uri": "https://localhost:8080/"
        },
        "outputId": "f830338f-2142-4197-e76b-439dee690a65"
      },
      "source": [
        "from google.colab import drive\n",
        "drive.mount('/content/drive')"
      ],
      "execution_count": null,
      "outputs": [
        {
          "output_type": "stream",
          "name": "stdout",
          "text": [
            "Mounted at /content/drive\n"
          ]
        }
      ]
    },
    {
      "cell_type": "code",
      "metadata": {
        "id": "qJ15vVY3PvVv"
      },
      "source": [
        "# pd.set_option('display.max_columns', None)\n",
        "# pd.set_option('display.max_rows', None)\n",
        "# pd.reset_option('display.max_columns')\n",
        "# pd.reset_option('display.max_rows')"
      ],
      "execution_count": null,
      "outputs": []
    },
    {
      "cell_type": "markdown",
      "metadata": {
        "id": "WdcuT-sXgzJQ"
      },
      "source": [
        "# Data Pre-processing\n",
        "\n",
        "\n",
        "\n"
      ]
    },
    {
      "cell_type": "code",
      "metadata": {
        "id": "wrjupaW77vk2"
      },
      "source": [
        "def data_fetch(mode=\"one-node\", node_name=\"\", n=50): # specify a node name or speficy number of nodes you want to process\n",
        "  base_path = \"/content/drive/MyDrive/CMPE/Bologna-Internship/new_data/\"\n",
        "\n",
        "  if mode == \"one-node\":\n",
        "    df_dict[node_name] = pd.read_parquet(base_path+node_name)\n",
        "  \n",
        "  elif mode == \"multiple-node\":\n",
        "    filenames = os.listdir(base_path)\n",
        "    df_dict = {}\n",
        "\n",
        "    for filename in filenames[:n]:\n",
        "      df_dict[filename] = pd.read_parquet(base_path+filename)\n",
        "  \n",
        "  return df_dict"
      ],
      "execution_count": null,
      "outputs": []
    },
    {
      "cell_type": "code",
      "metadata": {
        "id": "58ORjBVE4Tse"
      },
      "source": [
        "# Read all the data\n",
        "df_dict = data_fetch(mode=\"multiple-node\", n=50)"
      ],
      "execution_count": null,
      "outputs": []
    },
    {
      "cell_type": "code",
      "metadata": {
        "id": "wdqffkHN4oxW"
      },
      "source": [
        "# Merge consecutive rows with same label\n",
        "def merge_consecutive_rows(df, mode=\"simple\"):\n",
        "  prev_state = -1\n",
        "  start, end = 0, 0\n",
        "  merged_data = []\n",
        "  for i, row in enumerate(df.to_numpy()): \n",
        "    if row[-1] == 2:\n",
        "      if prev_state != 2:\n",
        "        end = i\n",
        "      \n",
        "        new_row = helper_create_new_row(df, start, end, 0, mode)\n",
        "        merged_data.append(new_row)\n",
        "\n",
        "        start = i\n",
        "      prev_state = 2\n",
        "    if row[-1] == 0:\n",
        "      if prev_state != 0:\n",
        "        end = i\n",
        "\n",
        "        new_row = helper_create_new_row(df, start, end, 2, mode)\n",
        "        merged_data.append(new_row)      \n",
        "\n",
        "        start = i\n",
        "      prev_state = 0\n",
        "    \n",
        "  return pd.DataFrame(merged_data[1:])\n",
        "\n",
        "def helper_create_new_row(df, start, end, label, mode):\n",
        "  df_interval = df[start:end]\n",
        "  new_row = {}\n",
        "  if mode == \"detailed\":\n",
        "    new_row = df_interval.mean()\n",
        "  else:\n",
        "    new_row[\"New_label\"] = label\n",
        "\n",
        "  new_row[\"start_timestamp\"] = df.iloc[start]['timestamp']\n",
        "  new_row[\"end_timestamp\"] = df.iloc[end]['timestamp']\n",
        "  new_row[\"interval_length\"] = end - start \n",
        "  return new_row"
      ],
      "execution_count": null,
      "outputs": []
    },
    {
      "cell_type": "code",
      "metadata": {
        "id": "9fr9Ktb44y8M"
      },
      "source": [
        "# Create merged dataframes\n",
        "df_dict_merged = {}\n",
        "for filename in df_dict:\n",
        "  df_merged = merge_consecutive_rows(df_dict[filename])\n",
        "  df_dict_merged[filename] = df_merged"
      ],
      "execution_count": null,
      "outputs": []
    },
    {
      "cell_type": "markdown",
      "metadata": {
        "id": "-kcm_eZFgWyu"
      },
      "source": [
        "# 1. Input Analysis"
      ]
    },
    {
      "cell_type": "code",
      "metadata": {
        "id": "igdP2Pp9pH2s"
      },
      "source": [
        "# Select a df to work on\n",
        "df = df_dict['r207n02.gzip']"
      ],
      "execution_count": null,
      "outputs": []
    },
    {
      "cell_type": "code",
      "metadata": {
        "id": "ZSQhGPv9d79V"
      },
      "source": [
        "# See data between time intervals\n",
        "def filter_df_by_time(df, start_date, end_date):\n",
        "  return df[df[\"timestamp\"].between(pd.Timestamp(start_date), \n",
        "                                  pd.Timestamp(end_date))][['timestamp', 'New_label']]"
      ],
      "execution_count": null,
      "outputs": []
    },
    {
      "cell_type": "markdown",
      "metadata": {
        "id": "-ahRtpEZk3z_"
      },
      "source": [
        "## 1.1. Plot of Labels According to Time"
      ]
    },
    {
      "cell_type": "code",
      "metadata": {
        "colab": {
          "base_uri": "https://localhost:8080/",
          "height": 352
        },
        "id": "MmxiE7x14U8q",
        "outputId": "f85c0237-0f8d-42f8-9310-b7ad1ba0d9fe"
      },
      "source": [
        "# Plot label according to time\n",
        "x = df[\"timestamp\"]\n",
        "y = df[\"New_label\"]\n",
        "plt.figure(figsize=(15,5))\n",
        "plt.scatter(x,y, linewidths=0.001, s=5)\n",
        "plt.ylabel('Label')\n",
        "plt.xlabel('Timestamp')"
      ],
      "execution_count": null,
      "outputs": [
        {
          "output_type": "execute_result",
          "data": {
            "text/plain": [
              "Text(0.5, 0, 'Timestamp')"
            ]
          },
          "metadata": {},
          "execution_count": 56
        },
        {
          "output_type": "display_data",
          "data": {
            "image/png": "[encoded data removed]",
            "text/plain": [
              "<Figure size 1080x360 with 1 Axes>"
            ]
          },
          "metadata": {
            "needs_background": "light"
          }
        }
      ]
    },
    {
      "cell_type": "code",
      "metadata": {
        "id": "lWlTQhI9PsEq"
      },
      "source": [
        "# Plot all labels according to time\n",
        "fig, axes = plt.subplots(len(df_dict), figsize=(40,100))\n",
        "for i, filename in enumerate(df_dict):\n",
        "  df = df_dict[filename]\n",
        "  df = filter_df_by_time(df, '2020-06-01 00:00:00', '2021-04-01 04:00:00')\n",
        "  labels = df[\"New_label\"].to_numpy()\n",
        "  axes[i].set_ylabel(filename)\n",
        "  axes[i].scatter(range(0,len(labels)), labels, s=2)"
      ],
      "execution_count": null,
      "outputs": []
    },
    {
      "cell_type": "code",
      "metadata": {
        "id": "qAkO_bOXd43f",
        "colab": {
          "base_uri": "https://localhost:8080/",
          "height": 320
        },
        "outputId": "9b818005-88ad-4270-b0ad-d849d2944665"
      },
      "source": [
        "# Plot data between a time interval\n",
        "def plot_data_between_time_interval(df, start_date, end_date):\n",
        "  mask = (df['timestamp'] <=  pd.Timestamp(end_date)) & (df['timestamp'] >=  pd.Timestamp(start_date))\n",
        "  df2 = df.loc[mask]\n",
        "  plt.figure(figsize=(15,5))\n",
        "  plt.scatter(df2['timestamp'], df2['New_label'], s=5)\n",
        "\n",
        "plot_data_between_time_interval(df, '2021-01-25 14:15:00',\t'2021-04-03 02:55:00')"
      ],
      "execution_count": null,
      "outputs": [
        {
          "output_type": "display_data",
          "data": {
            "image/png": "[encoded data removed]",
            "text/plain": [
              "<Figure size 1080x360 with 1 Axes>"
            ]
          },
          "metadata": {
            "needs_background": "light"
          }
        }
      ]
    },
    {
      "cell_type": "markdown",
      "metadata": {
        "id": "rHcnZJculXEX"
      },
      "source": [
        "## 1.2. Ratio of the anomalies"
      ]
    },
    {
      "cell_type": "code",
      "metadata": {
        "id": "dx_EgQy944HZ",
        "colab": {
          "base_uri": "https://localhost:8080/"
        },
        "outputId": "8c9a0090-994c-4ba0-f995-4e09e3916309"
      },
      "source": [
        "# Calculate the proportion of the time of anomalies\n",
        "ratios_dict = {}\n",
        "for filename in df_dict:\n",
        "  df = df_dict[filename]\n",
        "  df = filter_df_by_time(df, '2020-06-01 00:00:00', '2021-04-01 04:00:00')\n",
        "  ratio = len(df[df[\"New_label\"] == 2]) / len(df)\n",
        "  ratios_dict[filename] = ratio\n",
        "\n",
        "print(\"Ratios:\",ratios_dict)\n",
        "print(\"Mean of Ratios:\", np.mean([*ratios_dict.values()]))"
      ],
      "execution_count": null,
      "outputs": [
        {
          "output_type": "stream",
          "name": "stdout",
          "text": [
            "Ratios: {'r207n17.gzip': 0.0051148677936714345, 'r207n11.gzip': 0.004680998613037448, 'r205n13.gzip': 0.08938924093299178, 'r210n04.gzip': 0.011638185032410136, 'r211n05.gzip': 0.006448047162859248, 'r206n17.gzip': 0.009163312494647597, 'r208n09.gzip': 0.00432780847145488, 'r211n08.gzip': 0.02883233279783546, 'r208n10.gzip': 0.003341433778857837, 'r212n07.gzip': 0.004607021100156638, 'r207n02.gzip': 0.014049955396966993, 'r211n01.gzip': 0.006617647058823529, 'r206n03.gzip': 0.06476838079048024, 'r210n01.gzip': 0.20293301625049545, 'r208n14.gzip': 0.009558649988199197, 'r209n20.gzip': 0.21988694013625162, 'r206n18.gzip': 0.008807935693518043, 'r207n14.gzip': 0.02228541198254199, 'r206n09.gzip': 0.02085340674466621, 'r207n19.gzip': 0.004698512137823023, 'r211n17.gzip': 0.026143790849673203, 'r206n02 2.gzip': 0.08422125451681646, 'r210n14.gzip': 0.010679432885288161, 'r209n15.gzip': 0.010224760501105379, 'r211n14.gzip': 0.004138311568879897, 'r210n11.gzip': 0.005891558501334806, 'r208n16.gzip': 0.02132936507936508, 'r210n06.gzip': 0.011498488980614728, 'r206n02 3.gzip': 0.08422125451681646, 'r207n05.gzip': 0.003692889041566472, 'r207n03.gzip': 0.003782668500687758, 'r206n05.gzip': 0.019836913909361768, 'r209n13.gzip': 0.08391138957261132, 'r205n19.gzip': 0.16782965254298252, 'r205n14.gzip': 0.013280089153046062, 'r206n02.gzip': 0.08422125451681646, 'r205n12.gzip': 0.013534957528236722, 'r209n06.gzip': 0.013484021823850351, 'r212n17.gzip': 0.004153973968429798, 'r210n15.gzip': 0.01935142489984126, 'r221n05.gzip': 0.07953488372093023, 'r233n14.gzip': 0.030416471689284044, 'r223n17.gzip': 0.48902360613575824, 'r234n10.gzip': 0.004739752479592733, 'r232n05.gzip': 0.004411074612857813, 'r214n09.gzip': 0.0037525354969574036, 'r231n18.gzip': 0.005503050604139251, 'r227n07.gzip': 0.011541356527557079, 'r217n01.gzip': 0.10496232787737074, 'r234n11.gzip': 0.5612295901366211}\n",
            "Mean of Ratios: 0.05445090412992164\n"
          ]
        }
      ]
    },
    {
      "cell_type": "code",
      "metadata": {
        "colab": {
          "base_uri": "https://localhost:8080/",
          "height": 115
        },
        "id": "Zkb1bf3BpjOt",
        "outputId": "b320d6ce-64b9-467d-a060-867fa269d0ba"
      },
      "source": [
        "pd.DataFrame(ratios_dict, index=[0])"
      ],
      "execution_count": null,
      "outputs": [
        {
          "output_type": "execute_result",
          "data": {
            "text/html": [
              "<div>\n",
              "<style scoped>\n",
              "    .dataframe tbody tr th:only-of-type {\n",
              "        vertical-align: middle;\n",
              "    }\n",
              "\n",
              "    .dataframe tbody tr th {\n",
              "        vertical-align: top;\n",
              "    }\n",
              "\n",
              "    .dataframe thead th {\n",
              "        text-align: right;\n",
              "    }\n",
              "</style>\n",
              "<table border=\"1\" class=\"dataframe\">\n",
              "  <thead>\n",
              "    <tr style=\"text-align: right;\">\n",
              "      <th></th>\n",
              "      <th>r207n17.gzip</th>\n",
              "      <th>r207n11.gzip</th>\n",
              "      <th>r205n13.gzip</th>\n",
              "      <th>r210n04.gzip</th>\n",
              "      <th>r211n05.gzip</th>\n",
              "      <th>r206n17.gzip</th>\n",
              "      <th>r208n09.gzip</th>\n",
              "      <th>r211n08.gzip</th>\n",
              "      <th>r208n10.gzip</th>\n",
              "      <th>r212n07.gzip</th>\n",
              "      <th>r207n02.gzip</th>\n",
              "      <th>r211n01.gzip</th>\n",
              "      <th>r206n03.gzip</th>\n",
              "      <th>r210n01.gzip</th>\n",
              "      <th>r208n14.gzip</th>\n",
              "      <th>r209n20.gzip</th>\n",
              "      <th>r206n18.gzip</th>\n",
              "      <th>r207n14.gzip</th>\n",
              "      <th>r206n09.gzip</th>\n",
              "      <th>r207n19.gzip</th>\n",
              "      <th>r211n17.gzip</th>\n",
              "      <th>r206n02 2.gzip</th>\n",
              "      <th>r210n14.gzip</th>\n",
              "      <th>r209n15.gzip</th>\n",
              "      <th>r211n14.gzip</th>\n",
              "      <th>r210n11.gzip</th>\n",
              "      <th>r208n16.gzip</th>\n",
              "      <th>r210n06.gzip</th>\n",
              "      <th>r206n02 3.gzip</th>\n",
              "      <th>r207n05.gzip</th>\n",
              "      <th>r207n03.gzip</th>\n",
              "      <th>r206n05.gzip</th>\n",
              "      <th>r209n13.gzip</th>\n",
              "      <th>r205n19.gzip</th>\n",
              "      <th>r205n14.gzip</th>\n",
              "      <th>r206n02.gzip</th>\n",
              "      <th>r205n12.gzip</th>\n",
              "      <th>r209n06.gzip</th>\n",
              "      <th>r212n17.gzip</th>\n",
              "      <th>r210n15.gzip</th>\n",
              "      <th>r221n05.gzip</th>\n",
              "      <th>r233n14.gzip</th>\n",
              "      <th>r223n17.gzip</th>\n",
              "      <th>r234n10.gzip</th>\n",
              "      <th>r232n05.gzip</th>\n",
              "      <th>r214n09.gzip</th>\n",
              "      <th>r231n18.gzip</th>\n",
              "      <th>r227n07.gzip</th>\n",
              "      <th>r217n01.gzip</th>\n",
              "      <th>r234n11.gzip</th>\n",
              "    </tr>\n",
              "  </thead>\n",
              "  <tbody>\n",
              "    <tr>\n",
              "      <th>0</th>\n",
              "      <td>0.005115</td>\n",
              "      <td>0.004681</td>\n",
              "      <td>0.089389</td>\n",
              "      <td>0.011638</td>\n",
              "      <td>0.006448</td>\n",
              "      <td>0.009163</td>\n",
              "      <td>0.004328</td>\n",
              "      <td>0.028832</td>\n",
              "      <td>0.003341</td>\n",
              "      <td>0.004607</td>\n",
              "      <td>0.01405</td>\n",
              "      <td>0.006618</td>\n",
              "      <td>0.064768</td>\n",
              "      <td>0.202933</td>\n",
              "      <td>0.009559</td>\n",
              "      <td>0.219887</td>\n",
              "      <td>0.008808</td>\n",
              "      <td>0.022285</td>\n",
              "      <td>0.020853</td>\n",
              "      <td>0.004699</td>\n",
              "      <td>0.026144</td>\n",
              "      <td>0.084221</td>\n",
              "      <td>0.010679</td>\n",
              "      <td>0.010225</td>\n",
              "      <td>0.004138</td>\n",
              "      <td>0.005892</td>\n",
              "      <td>0.021329</td>\n",
              "      <td>0.011498</td>\n",
              "      <td>0.084221</td>\n",
              "      <td>0.003693</td>\n",
              "      <td>0.003783</td>\n",
              "      <td>0.019837</td>\n",
              "      <td>0.083911</td>\n",
              "      <td>0.16783</td>\n",
              "      <td>0.01328</td>\n",
              "      <td>0.084221</td>\n",
              "      <td>0.013535</td>\n",
              "      <td>0.013484</td>\n",
              "      <td>0.004154</td>\n",
              "      <td>0.019351</td>\n",
              "      <td>0.079535</td>\n",
              "      <td>0.030416</td>\n",
              "      <td>0.489024</td>\n",
              "      <td>0.00474</td>\n",
              "      <td>0.004411</td>\n",
              "      <td>0.003753</td>\n",
              "      <td>0.005503</td>\n",
              "      <td>0.011541</td>\n",
              "      <td>0.104962</td>\n",
              "      <td>0.56123</td>\n",
              "    </tr>\n",
              "  </tbody>\n",
              "</table>\n",
              "</div>"
            ],
            "text/plain": [
              "   r207n17.gzip  r207n11.gzip  ...  r217n01.gzip  r234n11.gzip\n",
              "0      0.005115      0.004681  ...      0.104962       0.56123\n",
              "\n",
              "[1 rows x 50 columns]"
            ]
          },
          "metadata": {},
          "execution_count": 14
        }
      ]
    },
    {
      "cell_type": "code",
      "metadata": {
        "colab": {
          "base_uri": "https://localhost:8080/",
          "height": 293
        },
        "id": "Z0U27dwINSpg",
        "outputId": "e5a226e7-2e98-47d5-d61a-64bd7bdc19ff"
      },
      "source": [
        "# Histogram of ratios\n",
        "ratios = [*ratios_dict.values()]\n",
        "\n",
        "plt.figure(figsize=(25,5))\n",
        "plt.hist(ratios, bins=50)\n",
        "\n",
        "plt.ylabel('Frequency')\n",
        "plt.xlabel('Ratio')"
      ],
      "execution_count": null,
      "outputs": [
        {
          "output_type": "execute_result",
          "data": {
            "text/plain": [
              "Text(0.5, 0, 'Ratio')"
            ]
          },
          "metadata": {},
          "execution_count": 57
        },
        {
          "output_type": "display_data",
          "data": {
            "image/png": "[encoded data removed]",
            "text/plain": [
              "<Figure size 1800x360 with 1 Axes>"
            ]
          },
          "metadata": {
            "needs_background": "light"
          }
        }
      ]
    },
    {
      "cell_type": "markdown",
      "metadata": {
        "id": "PUEkDsAiiske"
      },
      "source": [
        "## 1.3. Interarrival Distribution of Anomalies"
      ]
    },
    {
      "cell_type": "code",
      "metadata": {
        "id": "v4q7WJLucRhf"
      },
      "source": [
        "# interarrivals of anomalies\n",
        "def interarrival_calculate(df):\n",
        "  prev = False\n",
        "  interarrivals = []\n",
        "\n",
        "  for index, row in df.iterrows():\n",
        "    if row['New_label'] == 0:\n",
        "        time_coeff = row['interval_length']\n",
        "        if not prev:\n",
        "          interarrivals.append(0) # initial interarrival of an anomaly\n",
        "        else:\n",
        "          interarrivals.append(900 * time_coeff) # Difference between the two start points of two different anomalies\n",
        "        prev = True\n",
        "  if interarrivals != []:\n",
        "    interarrivals = interarrivals[1:] if interarrivals[0] == 0 else interarrivals\n",
        "  return interarrivals"
      ],
      "execution_count": null,
      "outputs": []
    },
    {
      "cell_type": "code",
      "metadata": {
        "id": "nNxAOBuHG39V"
      },
      "source": [
        "# Filter Interarrivals\n",
        "def filter_interarrivals(interarrivals, below_limit=0, upper_limit=1000000000):\n",
        "  filtered_interarrivals = [x for x in interarrivals if below_limit < x < upper_limit]\n",
        "  return filtered_interarrivals"
      ],
      "execution_count": null,
      "outputs": []
    },
    {
      "cell_type": "code",
      "metadata": {
        "id": "jEc2sbQSeFiW"
      },
      "source": [
        "# Plot the interarrivals of each anomalies (consecutive anomalies are assumed to be the same anomaly i.e. dependent)\n",
        "def plot_hist_for_interarrivals(interarrivals):\n",
        "  observed_values, bin_edges, _ = plt.hist(interarrivals)\n",
        "  plt.xlabel('Interarrival (second)')\n",
        "  plt.ylabel('Frequency')\n",
        "  return observed_values, bin_edges"
      ],
      "execution_count": null,
      "outputs": []
    },
    {
      "cell_type": "code",
      "metadata": {
        "id": "xolPbu6Td2uv"
      },
      "source": [
        "# Kolmogorov smirnov test\n",
        "def do_kstest(interarrivals, alternative=\"two-sided\"):\n",
        "  # print(stats.expon.fit(interarrivals))\n",
        "  return stats.kstest(rvs=interarrivals, cdf='expon', args=stats.expon.fit(interarrivals), alternative=alternative)"
      ],
      "execution_count": null,
      "outputs": []
    },
    {
      "cell_type": "code",
      "metadata": {
        "id": "qzPyLDSnZSqw"
      },
      "source": [
        "# Chi-square test\n",
        "def do_chisquare_test(interarrivals, observed_values, bin_edges, is_merge=False):\n",
        "  # print(interarrivals, observed_values, bin_edges)\n",
        "  # Find Expected values of exponential distribution for Chi-square test\n",
        "  loc, scale = stats.expon.fit(interarrivals)\n",
        "  n = len(interarrivals)\n",
        "  expected_values = []\n",
        "  for i, start_bin in enumerate(bin_edges[:-1]):\n",
        "    end_bin = bin_edges[i+1]\n",
        "    expected = (stats.expon.cdf(end_bin, loc, scale) - stats.expon.cdf(start_bin, loc, scale))*n\n",
        "    expected_values.append(expected)\n",
        "\n",
        "\n",
        "  # Merge cells less than 5 until all cels are bigger than or equal to 5\n",
        "  if not is_merge:\n",
        "    return stats.chisquare(observed_values, expected_values, ddof=1)\n",
        "  else:\n",
        "    merged_observed = []\n",
        "    merged_expected = []\n",
        "    curr_val = observed_values[0]\n",
        "    curr_exp = expected_values[0]\n",
        "\n",
        "    for i, next_val in enumerate(observed_values[1:]):\n",
        "      if curr_val >= 5:\n",
        "        merged_observed.append(curr_val)\n",
        "        merged_expected.append(curr_exp)\n",
        "        curr_val = next_val\n",
        "        curr_exp = expected_values[i+1]\n",
        "      else:\n",
        "        curr_val += next_val\n",
        "        curr_exp += expected_values[i+1]\n",
        "    if curr_val - observed_values[-1] < 5:\n",
        "      merged_observed.append(curr_val)\n",
        "      merged_expected.append(curr_exp)\n",
        "    elif curr_val < 5:\n",
        "      merged_observed[-1] += curr_val\n",
        "      merged_expected[-1] += curr_exp    \n",
        "\n",
        "    return stats.chisquare(merged_observed, merged_expected, ddof=1)"
      ],
      "execution_count": null,
      "outputs": []
    },
    {
      "cell_type": "code",
      "metadata": {
        "id": "j9jHB9Pyqg8h"
      },
      "source": [
        "# Create interarrivals dict\n",
        "interarrivals_dict = {}\n",
        "\n",
        "for filename in df_dict_merged:\n",
        "  # df = filter_df_by_time(df_dict[filename],\"2020-07-16 19:30:00\" ,\"2021-04-03 04:00:00\")\n",
        "  # df_merged = merge_consecutive_rows(df)\n",
        "  interarrivals_dict[filename] = interarrival_calculate(df_dict_merged[filename])"
      ],
      "execution_count": null,
      "outputs": []
    },
    {
      "cell_type": "code",
      "metadata": {
        "id": "C1yb6X6_sUK9",
        "colab": {
          "base_uri": "https://localhost:8080/",
          "height": 294
        },
        "outputId": "ccf0640e-69e6-4120-9a38-de6cc68679d0"
      },
      "source": [
        "result_dict = {}\n",
        "for filename in interarrivals_dict:\n",
        "  interarrivals = interarrivals_dict[filename]\n",
        "  kstest_result = do_kstest(interarrivals)\n",
        "  observed_values, bin_edges = plot_hist_for_interarrivals(interarrivals)\n",
        "  chisquare_test_result = do_chisquare_test(interarrivals, observed_values, bin_edges, is_merge=True)\n",
        "\n",
        "  result = {}\n",
        "  result[\"interarrivals\"] = interarrivals\n",
        "  result[\"kstest_result\"] = kstest_result\n",
        "  result[\"chisquare_test_result\"] = chisquare_test_result\n",
        "\n",
        "  result_dict[filename] = result"
      ],
      "execution_count": null,
      "outputs": [
        {
          "output_type": "display_data",
          "data": {
            "image/png": "[encoded data removed]",
            "text/plain": [
              "<Figure size 432x288 with 1 Axes>"
            ]
          },
          "metadata": {
            "needs_background": "light"
          }
        }
      ]
    },
    {
      "cell_type": "code",
      "metadata": {
        "id": "zDNXoX-d1aCV",
        "colab": {
          "base_uri": "https://localhost:8080/",
          "height": 314
        },
        "outputId": "dcc90f0b-6971-4e13-f6d0-e01eb43c51dc"
      },
      "source": [
        "all_interarrivals = []\n",
        "for filename in result_dict:\n",
        "  all_interarrivals = [*all_interarrivals, *result_dict[filename][\"interarrivals\"]]\n",
        "\n",
        "all_interarrivals = filter_interarrivals(all_interarrivals, 0,20000)\n",
        "\n",
        "kstest_result = do_kstest(all_interarrivals)\n",
        "observed_values, bin_edges = plot_hist_for_interarrivals(all_interarrivals)\n",
        "chisquare_test_result = do_chisquare_test(all_interarrivals, observed_values, bin_edges, is_merge=True)\n",
        "\n",
        "kstest_result, chisquare_test_result"
      ],
      "execution_count": null,
      "outputs": [
        {
          "output_type": "execute_result",
          "data": {
            "text/plain": [
              "(KstestResult(statistic=0.32514177693761814, pvalue=0.0),\n",
              " Power_divergenceResult(statistic=782.1231277307609, pvalue=1.4656854365241204e-163))"
            ]
          },
          "metadata": {},
          "execution_count": 59
        },
        {
          "output_type": "display_data",
          "data": {
            "image/png": "[encoded data removed]",
            "text/plain": [
              "<Figure size 432x288 with 1 Axes>"
            ]
          },
          "metadata": {
            "needs_background": "light"
          }
        }
      ]
    },
    {
      "cell_type": "code",
      "metadata": {
        "id": "cA9LBMnJdzCz",
        "colab": {
          "base_uri": "https://localhost:8080/",
          "height": 294
        },
        "outputId": "2649f0e5-f9db-4e2b-c43a-145cd91e8b40"
      },
      "source": [
        "# Save interarrivals to csv\n",
        "interarrivals = interarrival_calculate(df_dict_merged['r209n20.gzip'])\n",
        "df_interarrivals = pd.DataFrame({'Interarrivals (in s)': interarrivals}, columns=['Interarrivals (in s)']) \n",
        "df_interarrivals.to_csv(r'interarrivals.csv', index = False, header=True) \n",
        "pd.DataFrame.describe(df_interarrivals)"
      ],
      "execution_count": null,
      "outputs": [
        {
          "output_type": "execute_result",
          "data": {
            "text/html": [
              "<div>\n",
              "<style scoped>\n",
              "    .dataframe tbody tr th:only-of-type {\n",
              "        vertical-align: middle;\n",
              "    }\n",
              "\n",
              "    .dataframe tbody tr th {\n",
              "        vertical-align: top;\n",
              "    }\n",
              "\n",
              "    .dataframe thead th {\n",
              "        text-align: right;\n",
              "    }\n",
              "</style>\n",
              "<table border=\"1\" class=\"dataframe\">\n",
              "  <thead>\n",
              "    <tr style=\"text-align: right;\">\n",
              "      <th></th>\n",
              "      <th>Interarrivals (in s)</th>\n",
              "    </tr>\n",
              "  </thead>\n",
              "  <tbody>\n",
              "    <tr>\n",
              "      <th>count</th>\n",
              "      <td>1.250000e+02</td>\n",
              "    </tr>\n",
              "    <tr>\n",
              "      <th>mean</th>\n",
              "      <td>8.857440e+04</td>\n",
              "    </tr>\n",
              "    <tr>\n",
              "      <th>std</th>\n",
              "      <td>5.378974e+05</td>\n",
              "    </tr>\n",
              "    <tr>\n",
              "      <th>min</th>\n",
              "      <td>9.000000e+02</td>\n",
              "    </tr>\n",
              "    <tr>\n",
              "      <th>25%</th>\n",
              "      <td>9.000000e+02</td>\n",
              "    </tr>\n",
              "    <tr>\n",
              "      <th>50%</th>\n",
              "      <td>2.700000e+03</td>\n",
              "    </tr>\n",
              "    <tr>\n",
              "      <th>75%</th>\n",
              "      <td>4.500000e+03</td>\n",
              "    </tr>\n",
              "    <tr>\n",
              "      <th>max</th>\n",
              "      <td>5.668200e+06</td>\n",
              "    </tr>\n",
              "  </tbody>\n",
              "</table>\n",
              "</div>"
            ],
            "text/plain": [
              "       Interarrivals (in s)\n",
              "count          1.250000e+02\n",
              "mean           8.857440e+04\n",
              "std            5.378974e+05\n",
              "min            9.000000e+02\n",
              "25%            9.000000e+02\n",
              "50%            2.700000e+03\n",
              "75%            4.500000e+03\n",
              "max            5.668200e+06"
            ]
          },
          "metadata": {},
          "execution_count": 24
        }
      ]
    },
    {
      "cell_type": "markdown",
      "metadata": {
        "id": "piv-95qbhq4h"
      },
      "source": [
        "## 1.4. Autocorrelation"
      ]
    },
    {
      "cell_type": "code",
      "metadata": {
        "id": "PzOqmvfRiBtK"
      },
      "source": [
        "def autocorrelation_generator(df, start_date, end_date, maxlags, value=False, plot=False):\n",
        "  # Find autocorrelation between a given date of a df and with maxlags\n",
        "  data = filter_df_by_time(df, start_date, end_date)\n",
        "  interval = interarrival_calculate(merge_consecutive_rows(data))\n",
        "  if interval == []:\n",
        "    return f\"No anomaly between {start_date} and {end_date}\"\n",
        "  if value:\n",
        "    return autocorrelation_value(interval, maxlags, plot)\n",
        "  else:\n",
        "    return autocorrelation(interval, maxlags)"
      ],
      "execution_count": null,
      "outputs": []
    },
    {
      "cell_type": "code",
      "metadata": {
        "id": "iozYT9TxRTV1",
        "colab": {
          "base_uri": "https://localhost:8080/"
        },
        "outputId": "3a2184c9-f79c-4561-ab02-bc359c9e4737"
      },
      "source": [
        "from statsmodels.graphics.tsaplots import plot_acf\n",
        "\n",
        "def autocorrelation(data, maxlag):\n",
        "  # Time series data\n",
        "  data = pd.DataFrame(data)\n",
        "\n",
        "  # Plot autocorrelation\n",
        "  plot_acf(data, lags=maxlag)"
      ],
      "execution_count": null,
      "outputs": [
        {
          "output_type": "stream",
          "name": "stderr",
          "text": [
            "/usr/local/lib/python3.7/dist-packages/statsmodels/tools/_testing.py:19: FutureWarning: pandas.util.testing is deprecated. Use the functions in the public API at pandas.testing instead.\n",
            "  import pandas.util.testing as tm\n"
          ]
        }
      ]
    },
    {
      "cell_type": "code",
      "metadata": {
        "id": "nsSe2T39iBtL"
      },
      "source": [
        "def autocorrelation_value(data, maxlag, plot):\n",
        "  # Time series data\n",
        "  data = pd.Series(data)\n",
        "\n",
        "  # Plot autocorrelation\n",
        "  # Creating Autocorrelation plot\n",
        "  if plot:\n",
        "    x = pd.plotting.autocorrelation_plot(data)\n",
        "      \n",
        "    # ploting the Curve\n",
        "    x.plot()\n",
        "      \n",
        "    # Display\n",
        "    plt.show()\n",
        "  return data.autocorr(lag=maxlag)"
      ],
      "execution_count": null,
      "outputs": []
    },
    {
      "cell_type": "code",
      "metadata": {
        "id": "-hvWbRMf4doe",
        "colab": {
          "base_uri": "https://localhost:8080/",
          "height": 281
        },
        "outputId": "8028cd06-0d67-4507-ad87-b37ff416ce54"
      },
      "source": [
        "autocorrelation_generator(df_dict['r207n02.gzip'], \"2020-06-01\", \"2021-04-27\", 35)"
      ],
      "execution_count": null,
      "outputs": [
        {
          "output_type": "display_data",
          "data": {
            "image/png": "[encoded data removed]",
            "text/plain": [
              "<Figure size 432x288 with 1 Axes>"
            ]
          },
          "metadata": {
            "needs_background": "light"
          }
        }
      ]
    },
    {
      "cell_type": "markdown",
      "metadata": {
        "id": "8TZ7L5p3fGbw"
      },
      "source": [
        "## 1.5. Poisson Analysis"
      ]
    },
    {
      "cell_type": "code",
      "metadata": {
        "id": "amRBn9D6fJ2x"
      },
      "source": [
        "# Get number of event in the fixed time with given interval length (unit is 15 min)\n",
        "def get_number_of_event_in_fixed_time(df_merged, wanted_interval_length):\n",
        "  matrix = df_merged.to_numpy()\n",
        "  events_count = []\n",
        "\n",
        "  interval_length = wanted_interval_length\n",
        "  count = 0\n",
        "  for i, row in enumerate(matrix):\n",
        "    length = row[-1]\n",
        "    label = row[0]\n",
        "\n",
        "    if label == 2:\n",
        "      count += 1\n",
        "    \n",
        "    interval_length -= length\n",
        "\n",
        "    if interval_length < 0:\n",
        "      interval_length = wanted_interval_length + interval_length\n",
        "      events_count.append(count)\n",
        "      count = 0\n",
        "\n",
        "  if interval_length > 0:\n",
        "    events_count.append(count)\n",
        "    \n",
        "  return events_count"
      ],
      "execution_count": null,
      "outputs": []
    },
    {
      "cell_type": "code",
      "metadata": {
        "id": "tEhhe8ZMiagQ",
        "colab": {
          "base_uri": "https://localhost:8080/"
        },
        "outputId": "f6c15b93-02a9-450f-d826-3b1e829f7b36"
      },
      "source": [
        "interval_length = 96\n",
        "df = filter_df_by_time(df_dict[filename], '2020-06-01 00:00:00', '2021-04-01 04:00:00')\n",
        "df_merged = merge_consecutive_rows(df)\n",
        "events_count = get_number_of_event_in_fixed_time(df_merged, interval_length)\n",
        "print(events_count)\n",
        "print(len(df_merged[df_merged[\"New_label\"] == 2].to_numpy()))"
      ],
      "execution_count": null,
      "outputs": [
        {
          "output_type": "stream",
          "name": "stdout",
          "text": [
            "[0, 1, 0, 1, 0, 1, 0, 1, 0, 1, 0, 1, 0, 1, 0, 1, 0, 1, 0, 1, 0, 1]\n",
            "11\n"
          ]
        }
      ]
    },
    {
      "cell_type": "code",
      "metadata": {
        "colab": {
          "base_uri": "https://localhost:8080/",
          "height": 578
        },
        "id": "DevDhNsop3pw",
        "outputId": "d2083aa2-cdd9-45f0-feb6-f1f67258d9d3"
      },
      "source": [
        "all_events_count = []\n",
        "interval_length = 96*7\n",
        "\n",
        "for filename in df_dict:\n",
        "  df = filter_df_by_time(df_dict[filename], '2020-06-01 00:00:00', '2021-04-01 04:00:00')\n",
        "  df_merged = merge_consecutive_rows(df)\n",
        "  events_count = get_number_of_event_in_fixed_time(df_merged, interval_length)\n",
        "  all_events_count = [*all_events_count, *events_count]\n",
        "\n",
        "filtered_all_events_count = [x for x in all_events_count if x < 14]\n",
        "\n",
        "kstest_result = do_kstest(filtered_all_events_count)\n",
        "observed_values, bin_edges, _ = plt.hist(filtered_all_events_count)\n",
        "plt.xlabel('Number of Arrival')\n",
        "plt.ylabel('Frequency')\n",
        "chisquare_test_result = do_chisquare_test(filtered_all_events_count, observed_values, bin_edges, is_merge=True)\n",
        "autocorrelation(filtered_all_events_count, 30)\n",
        "\n",
        "kstest_result, chisquare_test_result"
      ],
      "execution_count": null,
      "outputs": [
        {
          "output_type": "execute_result",
          "data": {
            "text/plain": [
              "(KstestResult(statistic=0.33646616541353386, pvalue=3.2222838748064937e-54),\n",
              " Power_divergenceResult(statistic=131.94613194556152, pvalue=1.4933502356634444e-27))"
            ]
          },
          "metadata": {},
          "execution_count": 63
        },
        {
          "output_type": "display_data",
          "data": {
            "image/png": "[encoded data removed]",
            "text/plain": [
              "<Figure size 432x288 with 1 Axes>"
            ]
          },
          "metadata": {
            "needs_background": "light"
          }
        },
        {
          "output_type": "display_data",
          "data": {
            "image/png": "[encoded data removed]",
            "text/plain": [
              "<Figure size 432x288 with 1 Axes>"
            ]
          },
          "metadata": {
            "needs_background": "light"
          }
        }
      ]
    },
    {
      "cell_type": "code",
      "metadata": {
        "colab": {
          "base_uri": "https://localhost:8080/",
          "height": 294
        },
        "id": "7X5b8XaTpfQP",
        "outputId": "b9ba1afb-5871-48b4-955e-8af5c102ce06"
      },
      "source": [
        "pd.DataFrame(all_events_count, columns=[\"Number of Arrival in Fixed Time (1 week) for 50 Machines\"]).describe()"
      ],
      "execution_count": null,
      "outputs": [
        {
          "output_type": "execute_result",
          "data": {
            "text/html": [
              "<div>\n",
              "<style scoped>\n",
              "    .dataframe tbody tr th:only-of-type {\n",
              "        vertical-align: middle;\n",
              "    }\n",
              "\n",
              "    .dataframe tbody tr th {\n",
              "        vertical-align: top;\n",
              "    }\n",
              "\n",
              "    .dataframe thead th {\n",
              "        text-align: right;\n",
              "    }\n",
              "</style>\n",
              "<table border=\"1\" class=\"dataframe\">\n",
              "  <thead>\n",
              "    <tr style=\"text-align: right;\">\n",
              "      <th></th>\n",
              "      <th>Number of Arrival in Fixed Time (1 week) for 50 Machines</th>\n",
              "    </tr>\n",
              "  </thead>\n",
              "  <tbody>\n",
              "    <tr>\n",
              "      <th>count</th>\n",
              "      <td>534.000000</td>\n",
              "    </tr>\n",
              "    <tr>\n",
              "      <th>mean</th>\n",
              "      <td>1.260300</td>\n",
              "    </tr>\n",
              "    <tr>\n",
              "      <th>std</th>\n",
              "      <td>2.418975</td>\n",
              "    </tr>\n",
              "    <tr>\n",
              "      <th>min</th>\n",
              "      <td>0.000000</td>\n",
              "    </tr>\n",
              "    <tr>\n",
              "      <th>25%</th>\n",
              "      <td>0.000000</td>\n",
              "    </tr>\n",
              "    <tr>\n",
              "      <th>50%</th>\n",
              "      <td>1.000000</td>\n",
              "    </tr>\n",
              "    <tr>\n",
              "      <th>75%</th>\n",
              "      <td>1.000000</td>\n",
              "    </tr>\n",
              "    <tr>\n",
              "      <th>max</th>\n",
              "      <td>42.000000</td>\n",
              "    </tr>\n",
              "  </tbody>\n",
              "</table>\n",
              "</div>"
            ],
            "text/plain": [
              "       Number of Arrival in Fixed Time (1 week) for 50 Machines\n",
              "count                                         534.000000       \n",
              "mean                                            1.260300       \n",
              "std                                             2.418975       \n",
              "min                                             0.000000       \n",
              "25%                                             0.000000       \n",
              "50%                                             1.000000       \n",
              "75%                                             1.000000       \n",
              "max                                            42.000000       "
            ]
          },
          "metadata": {},
          "execution_count": 32
        }
      ]
    },
    {
      "cell_type": "markdown",
      "metadata": {
        "id": "xexe_kASgr1e"
      },
      "source": [
        "# 2. Output Analysis"
      ]
    },
    {
      "cell_type": "code",
      "metadata": {
        "id": "nRbVvs-f_gsZ"
      },
      "source": [
        "df = df_dict['r207n02.gzip']\n",
        "df_merged = merge_consecutive_rows(df, mode='detailed')\n",
        "label_0 = df_merged[df_merged[\"New_label\"] == 0]\n",
        "label_2 = df_merged[df_merged[\"New_label\"] == 2]"
      ],
      "execution_count": null,
      "outputs": []
    },
    {
      "cell_type": "code",
      "metadata": {
        "id": "C-liPDXT5XL3"
      },
      "source": [
        "# Confidence Interval - Relative Output Analysis\n",
        "# Independent Sampling Approach\n",
        "def calculate_confidence_interval(first_row, first_coff, second_row, second_coff, alpha=0.05):\n",
        "  mu_1 = calculate_mean(first_row, first_coff)\n",
        "  mu_2 = calculate_mean(second_row, second_coff)\n",
        "  var_1 = calculate_variance(first_row, mu_1)\n",
        "  var_2 = calculate_variance(second_row, mu_2)\n",
        "  n_1 = len(first_row)\n",
        "  n_2 = len(second_row)\n",
        "\n",
        "  diff_mean = mu_1 - mu_2\n",
        "  diff_se = np.sqrt(var_1/n_1 + var_2/n_2)\n",
        "  dof = ((var_1/n_1 + var_2/n_2)**2)/(((var_1/n_1)**2)/(n_1-1) + ((var_2/n_2)**2)/(n_2-1))\n",
        "  \n",
        "  t_value = stats.t.ppf(1-alpha/2, dof)\n",
        "\n",
        "  half_width = diff_se * t_value\n",
        "\n",
        "  return mu_1, mu_2, np.sqrt(var_1), np.sqrt(var_2), diff_mean, half_width\n",
        "\n",
        "\n",
        "def calculate_mean(array, coefficients):\n",
        "  return np.sum(np.multiply(array, coefficients))/np.sum(coefficients)\n",
        "def calculate_variance(array, mean):\n",
        "  # return calculate_mean(np.power(array, 2), coefficients) - np.power(mean, 2)\n",
        "  return np.sum(np.power(np.subtract(array, mean), 2)) / (len(array)-1)"
      ],
      "execution_count": null,
      "outputs": []
    },
    {
      "cell_type": "code",
      "metadata": {
        "id": "ylp1WmVa5bn-",
        "colab": {
          "base_uri": "https://localhost:8080/"
        },
        "outputId": "17e4667f-ff27-4ea9-a7cb-4084b9f4bdb3"
      },
      "source": [
        "result = {}\n",
        "cols = [col for col in df.columns if not (\"timestamp\" in col or \"label\" in col)]\n",
        "\n",
        "coff_label_0 = label_0[\"interval_length\"]\n",
        "coff_label_2 = label_2[\"interval_length\"]\n",
        "label_0_filtered = label_0[cols]\n",
        "label_2_filtered = label_2[cols]\n",
        "for col in label_0_filtered:\n",
        "  result[col] = calculate_confidence_interval(label_0_filtered[col], coff_label_0, label_2_filtered[col], coff_label_2, 0.0001)\n",
        "df_confidence = pd.DataFrame(result, index=[\"Mean of Label 0\", \"Mean of Label 2\", \"Standart Deviation of Label 0\", \"Standart Deviation of Label 2\", \"Difference of Means\", \"Half Width\"])\n",
        "print(len(result))\n",
        "df_confidence"
      ],
      "execution_count": null,
      "outputs": [
        {
          "output_type": "stream",
          "name": "stderr",
          "text": [
            "/usr/local/lib/python3.7/dist-packages/ipykernel_launcher.py:13: RuntimeWarning: invalid value encountered in double_scalars\n",
            "  del sys.path[0]\n"
          ]
        },
        {
          "output_type": "stream",
          "name": "stdout",
          "text": [
            "460\n"
          ]
        },
        {
          "output_type": "execute_result",
          "data": {
            "text/html": [
              "<div>\n",
              "<style scoped>\n",
              "    .dataframe tbody tr th:only-of-type {\n",
              "        vertical-align: middle;\n",
              "    }\n",
              "\n",
              "    .dataframe tbody tr th {\n",
              "        vertical-align: top;\n",
              "    }\n",
              "\n",
              "    .dataframe thead th {\n",
              "        text-align: right;\n",
              "    }\n",
              "</style>\n",
              "<table border=\"1\" class=\"dataframe\">\n",
              "  <thead>\n",
              "    <tr style=\"text-align: right;\">\n",
              "      <th></th>\n",
              "      <th>avg:ambient</th>\n",
              "      <th>var:ambient</th>\n",
              "      <th>max:ambient</th>\n",
              "      <th>min:ambient</th>\n",
              "      <th>avg:dimm0_temp</th>\n",
              "      <th>var:dimm0_temp</th>\n",
              "      <th>max:dimm0_temp</th>\n",
              "      <th>min:dimm0_temp</th>\n",
              "      <th>avg:dimm10_temp</th>\n",
              "      <th>var:dimm10_temp</th>\n",
              "      <th>max:dimm10_temp</th>\n",
              "      <th>min:dimm10_temp</th>\n",
              "      <th>avg:dimm11_temp</th>\n",
              "      <th>var:dimm11_temp</th>\n",
              "      <th>max:dimm11_temp</th>\n",
              "      <th>min:dimm11_temp</th>\n",
              "      <th>avg:dimm12_temp</th>\n",
              "      <th>var:dimm12_temp</th>\n",
              "      <th>max:dimm12_temp</th>\n",
              "      <th>min:dimm12_temp</th>\n",
              "      <th>avg:dimm13_temp</th>\n",
              "      <th>var:dimm13_temp</th>\n",
              "      <th>max:dimm13_temp</th>\n",
              "      <th>min:dimm13_temp</th>\n",
              "      <th>avg:dimm14_temp</th>\n",
              "      <th>var:dimm14_temp</th>\n",
              "      <th>max:dimm14_temp</th>\n",
              "      <th>min:dimm14_temp</th>\n",
              "      <th>avg:dimm15_temp</th>\n",
              "      <th>var:dimm15_temp</th>\n",
              "      <th>max:dimm15_temp</th>\n",
              "      <th>min:dimm15_temp</th>\n",
              "      <th>avg:dimm1_temp</th>\n",
              "      <th>var:dimm1_temp</th>\n",
              "      <th>max:dimm1_temp</th>\n",
              "      <th>min:dimm1_temp</th>\n",
              "      <th>avg:dimm2_temp</th>\n",
              "      <th>var:dimm2_temp</th>\n",
              "      <th>max:dimm2_temp</th>\n",
              "      <th>min:dimm2_temp</th>\n",
              "      <th>...</th>\n",
              "      <th>avg:mem_free</th>\n",
              "      <th>var:mem_free</th>\n",
              "      <th>max:mem_free</th>\n",
              "      <th>min:mem_free</th>\n",
              "      <th>avg:mem_shared</th>\n",
              "      <th>var:mem_shared</th>\n",
              "      <th>max:mem_shared</th>\n",
              "      <th>min:mem_shared</th>\n",
              "      <th>avg:mem_total</th>\n",
              "      <th>var:mem_total</th>\n",
              "      <th>max:mem_total</th>\n",
              "      <th>min:mem_total</th>\n",
              "      <th>avg:part_max_used</th>\n",
              "      <th>var:part_max_used</th>\n",
              "      <th>max:part_max_used</th>\n",
              "      <th>min:part_max_used</th>\n",
              "      <th>avg:pkts_in</th>\n",
              "      <th>var:pkts_in</th>\n",
              "      <th>max:pkts_in</th>\n",
              "      <th>min:pkts_in</th>\n",
              "      <th>avg:pkts_out</th>\n",
              "      <th>var:pkts_out</th>\n",
              "      <th>max:pkts_out</th>\n",
              "      <th>min:pkts_out</th>\n",
              "      <th>avg:proc_run</th>\n",
              "      <th>var:proc_run</th>\n",
              "      <th>max:proc_run</th>\n",
              "      <th>min:proc_run</th>\n",
              "      <th>avg:proc_total</th>\n",
              "      <th>var:proc_total</th>\n",
              "      <th>max:proc_total</th>\n",
              "      <th>min:proc_total</th>\n",
              "      <th>avg:swap_free</th>\n",
              "      <th>var:swap_free</th>\n",
              "      <th>max:swap_free</th>\n",
              "      <th>min:swap_free</th>\n",
              "      <th>avg:swap_total</th>\n",
              "      <th>var:swap_total</th>\n",
              "      <th>max:swap_total</th>\n",
              "      <th>min:swap_total</th>\n",
              "    </tr>\n",
              "  </thead>\n",
              "  <tbody>\n",
              "    <tr>\n",
              "      <th>Mean of Label 0</th>\n",
              "      <td>19.856986</td>\n",
              "      <td>0.036055</td>\n",
              "      <td>20.050921</td>\n",
              "      <td>19.661134</td>\n",
              "      <td>28.652489</td>\n",
              "      <td>0.064511</td>\n",
              "      <td>28.814171</td>\n",
              "      <td>28.488256</td>\n",
              "      <td>28.742792</td>\n",
              "      <td>0.065936</td>\n",
              "      <td>28.907540</td>\n",
              "      <td>28.579743</td>\n",
              "      <td>27.791985</td>\n",
              "      <td>0.062237</td>\n",
              "      <td>27.947963</td>\n",
              "      <td>27.631780</td>\n",
              "      <td>30.310713</td>\n",
              "      <td>0.055704</td>\n",
              "      <td>30.445627</td>\n",
              "      <td>30.173566</td>\n",
              "      <td>32.886447</td>\n",
              "      <td>0.055710</td>\n",
              "      <td>33.019855</td>\n",
              "      <td>32.751752</td>\n",
              "      <td>29.273261</td>\n",
              "      <td>0.055001</td>\n",
              "      <td>29.415261</td>\n",
              "      <td>29.133857</td>\n",
              "      <td>32.083712</td>\n",
              "      <td>0.060845</td>\n",
              "      <td>32.225733</td>\n",
              "      <td>31.938035</td>\n",
              "      <td>28.841894</td>\n",
              "      <td>0.064659</td>\n",
              "      <td>29.003179</td>\n",
              "      <td>28.678822</td>\n",
              "      <td>29.129704</td>\n",
              "      <td>0.069828</td>\n",
              "      <td>29.305541</td>\n",
              "      <td>28.953543</td>\n",
              "      <td>...</td>\n",
              "      <td>2.622560e+08</td>\n",
              "      <td>1.156503e+14</td>\n",
              "      <td>2.666338e+08</td>\n",
              "      <td>2.590033e+08</td>\n",
              "      <td>0.0</td>\n",
              "      <td>0.0</td>\n",
              "      <td>0.0</td>\n",
              "      <td>0.0</td>\n",
              "      <td>3.298729e+08</td>\n",
              "      <td>0.0</td>\n",
              "      <td>3.298729e+08</td>\n",
              "      <td>3.298729e+08</td>\n",
              "      <td>30.547074</td>\n",
              "      <td>0.0</td>\n",
              "      <td>30.547074</td>\n",
              "      <td>30.547074</td>\n",
              "      <td>130.664412</td>\n",
              "      <td>7347.552556</td>\n",
              "      <td>158.131834</td>\n",
              "      <td>111.428931</td>\n",
              "      <td>95.920711</td>\n",
              "      <td>13274.618366</td>\n",
              "      <td>127.150719</td>\n",
              "      <td>75.325237</td>\n",
              "      <td>27.896607</td>\n",
              "      <td>1213.022004</td>\n",
              "      <td>33.564690</td>\n",
              "      <td>22.351479</td>\n",
              "      <td>2635.182452</td>\n",
              "      <td>4254.313360</td>\n",
              "      <td>2643.398910</td>\n",
              "      <td>2625.770828</td>\n",
              "      <td>3.552883e+06</td>\n",
              "      <td>2.283814e+09</td>\n",
              "      <td>3.555389e+06</td>\n",
              "      <td>3.550731e+06</td>\n",
              "      <td>4194240.0</td>\n",
              "      <td>0.0</td>\n",
              "      <td>4194240.0</td>\n",
              "      <td>4194240.0</td>\n",
              "    </tr>\n",
              "    <tr>\n",
              "      <th>Mean of Label 2</th>\n",
              "      <td>19.305457</td>\n",
              "      <td>0.039413</td>\n",
              "      <td>19.510476</td>\n",
              "      <td>19.099048</td>\n",
              "      <td>27.229206</td>\n",
              "      <td>0.051036</td>\n",
              "      <td>27.368254</td>\n",
              "      <td>27.101587</td>\n",
              "      <td>27.524868</td>\n",
              "      <td>0.064248</td>\n",
              "      <td>27.669841</td>\n",
              "      <td>27.361905</td>\n",
              "      <td>26.767460</td>\n",
              "      <td>0.062308</td>\n",
              "      <td>26.923810</td>\n",
              "      <td>26.634921</td>\n",
              "      <td>28.902434</td>\n",
              "      <td>0.052094</td>\n",
              "      <td>29.022222</td>\n",
              "      <td>28.771429</td>\n",
              "      <td>31.346878</td>\n",
              "      <td>0.047982</td>\n",
              "      <td>31.457143</td>\n",
              "      <td>31.228571</td>\n",
              "      <td>27.917249</td>\n",
              "      <td>0.042721</td>\n",
              "      <td>28.015873</td>\n",
              "      <td>27.803175</td>\n",
              "      <td>30.520635</td>\n",
              "      <td>0.050340</td>\n",
              "      <td>30.622222</td>\n",
              "      <td>30.431746</td>\n",
              "      <td>27.504127</td>\n",
              "      <td>0.062343</td>\n",
              "      <td>27.650794</td>\n",
              "      <td>27.358730</td>\n",
              "      <td>27.645291</td>\n",
              "      <td>0.056206</td>\n",
              "      <td>27.780952</td>\n",
              "      <td>27.501587</td>\n",
              "      <td>...</td>\n",
              "      <td>2.851046e+08</td>\n",
              "      <td>1.041259e+13</td>\n",
              "      <td>2.860473e+08</td>\n",
              "      <td>2.844452e+08</td>\n",
              "      <td>0.0</td>\n",
              "      <td>0.0</td>\n",
              "      <td>0.0</td>\n",
              "      <td>0.0</td>\n",
              "      <td>3.298726e+08</td>\n",
              "      <td>0.0</td>\n",
              "      <td>3.298726e+08</td>\n",
              "      <td>3.298726e+08</td>\n",
              "      <td>32.412381</td>\n",
              "      <td>0.0</td>\n",
              "      <td>32.412381</td>\n",
              "      <td>32.412381</td>\n",
              "      <td>125.206596</td>\n",
              "      <td>67212.756392</td>\n",
              "      <td>155.096540</td>\n",
              "      <td>102.169206</td>\n",
              "      <td>82.454992</td>\n",
              "      <td>66884.047422</td>\n",
              "      <td>113.941333</td>\n",
              "      <td>59.640635</td>\n",
              "      <td>10.401058</td>\n",
              "      <td>98.628042</td>\n",
              "      <td>12.682540</td>\n",
              "      <td>7.317460</td>\n",
              "      <td>2094.305026</td>\n",
              "      <td>274.038360</td>\n",
              "      <td>2098.733333</td>\n",
              "      <td>2089.765079</td>\n",
              "      <td>3.516334e+06</td>\n",
              "      <td>1.269376e+04</td>\n",
              "      <td>3.516344e+06</td>\n",
              "      <td>3.516330e+06</td>\n",
              "      <td>4194240.0</td>\n",
              "      <td>0.0</td>\n",
              "      <td>4194240.0</td>\n",
              "      <td>4194240.0</td>\n",
              "    </tr>\n",
              "    <tr>\n",
              "      <th>Standart Deviation of Label 0</th>\n",
              "      <td>1.912759</td>\n",
              "      <td>0.111855</td>\n",
              "      <td>1.932997</td>\n",
              "      <td>1.883157</td>\n",
              "      <td>1.787181</td>\n",
              "      <td>0.129092</td>\n",
              "      <td>1.814671</td>\n",
              "      <td>1.805034</td>\n",
              "      <td>1.879014</td>\n",
              "      <td>0.096966</td>\n",
              "      <td>1.928131</td>\n",
              "      <td>1.831725</td>\n",
              "      <td>1.838991</td>\n",
              "      <td>0.098247</td>\n",
              "      <td>1.854698</td>\n",
              "      <td>1.824834</td>\n",
              "      <td>1.936580</td>\n",
              "      <td>0.081786</td>\n",
              "      <td>2.006204</td>\n",
              "      <td>1.845053</td>\n",
              "      <td>2.101825</td>\n",
              "      <td>0.096384</td>\n",
              "      <td>2.178097</td>\n",
              "      <td>2.016429</td>\n",
              "      <td>1.780499</td>\n",
              "      <td>0.077486</td>\n",
              "      <td>1.806689</td>\n",
              "      <td>1.766776</td>\n",
              "      <td>2.083642</td>\n",
              "      <td>0.100353</td>\n",
              "      <td>2.172457</td>\n",
              "      <td>2.010547</td>\n",
              "      <td>1.774211</td>\n",
              "      <td>0.107799</td>\n",
              "      <td>1.805358</td>\n",
              "      <td>1.780288</td>\n",
              "      <td>1.803607</td>\n",
              "      <td>0.111894</td>\n",
              "      <td>1.851480</td>\n",
              "      <td>1.781041</td>\n",
              "      <td>...</td>\n",
              "      <td>3.771946e+07</td>\n",
              "      <td>1.375075e+14</td>\n",
              "      <td>3.685266e+07</td>\n",
              "      <td>3.868342e+07</td>\n",
              "      <td>0.0</td>\n",
              "      <td>0.0</td>\n",
              "      <td>0.0</td>\n",
              "      <td>0.0</td>\n",
              "      <td>9.833296e+02</td>\n",
              "      <td>0.0</td>\n",
              "      <td>9.833296e+02</td>\n",
              "      <td>9.833296e+02</td>\n",
              "      <td>6.361295</td>\n",
              "      <td>0.0</td>\n",
              "      <td>6.361295</td>\n",
              "      <td>6.361295</td>\n",
              "      <td>103.574332</td>\n",
              "      <td>24926.097670</td>\n",
              "      <td>140.031113</td>\n",
              "      <td>90.806968</td>\n",
              "      <td>64.354746</td>\n",
              "      <td>204792.555988</td>\n",
              "      <td>204.619731</td>\n",
              "      <td>19.235797</td>\n",
              "      <td>23.620671</td>\n",
              "      <td>1231.197029</td>\n",
              "      <td>29.253899</td>\n",
              "      <td>19.235661</td>\n",
              "      <td>271.996072</td>\n",
              "      <td>4164.767766</td>\n",
              "      <td>273.822881</td>\n",
              "      <td>269.106913</td>\n",
              "      <td>3.296218e+05</td>\n",
              "      <td>2.934298e+09</td>\n",
              "      <td>3.302836e+05</td>\n",
              "      <td>3.290165e+05</td>\n",
              "      <td>0.0</td>\n",
              "      <td>0.0</td>\n",
              "      <td>0.0</td>\n",
              "      <td>0.0</td>\n",
              "    </tr>\n",
              "    <tr>\n",
              "      <th>Standart Deviation of Label 2</th>\n",
              "      <td>2.174965</td>\n",
              "      <td>0.136481</td>\n",
              "      <td>2.205554</td>\n",
              "      <td>2.158452</td>\n",
              "      <td>2.462982</td>\n",
              "      <td>0.144915</td>\n",
              "      <td>2.479678</td>\n",
              "      <td>2.432269</td>\n",
              "      <td>2.287620</td>\n",
              "      <td>0.182300</td>\n",
              "      <td>2.367747</td>\n",
              "      <td>2.216455</td>\n",
              "      <td>2.227904</td>\n",
              "      <td>0.161405</td>\n",
              "      <td>2.316806</td>\n",
              "      <td>2.221270</td>\n",
              "      <td>2.415414</td>\n",
              "      <td>0.186061</td>\n",
              "      <td>2.483609</td>\n",
              "      <td>2.343962</td>\n",
              "      <td>2.668997</td>\n",
              "      <td>0.181698</td>\n",
              "      <td>2.778867</td>\n",
              "      <td>2.566985</td>\n",
              "      <td>2.180431</td>\n",
              "      <td>0.141630</td>\n",
              "      <td>2.224506</td>\n",
              "      <td>2.136074</td>\n",
              "      <td>2.682874</td>\n",
              "      <td>0.221222</td>\n",
              "      <td>2.803204</td>\n",
              "      <td>2.601156</td>\n",
              "      <td>2.443170</td>\n",
              "      <td>0.169183</td>\n",
              "      <td>2.493339</td>\n",
              "      <td>2.451434</td>\n",
              "      <td>2.564509</td>\n",
              "      <td>0.144581</td>\n",
              "      <td>2.622165</td>\n",
              "      <td>2.534511</td>\n",
              "      <td>...</td>\n",
              "      <td>5.043919e+07</td>\n",
              "      <td>1.418574e+14</td>\n",
              "      <td>4.804442e+07</td>\n",
              "      <td>5.198526e+07</td>\n",
              "      <td>0.0</td>\n",
              "      <td>0.0</td>\n",
              "      <td>0.0</td>\n",
              "      <td>0.0</td>\n",
              "      <td>7.082710e+02</td>\n",
              "      <td>0.0</td>\n",
              "      <td>7.082710e+02</td>\n",
              "      <td>7.082710e+02</td>\n",
              "      <td>4.743716</td>\n",
              "      <td>0.0</td>\n",
              "      <td>4.743716</td>\n",
              "      <td>4.743716</td>\n",
              "      <td>91.606467</td>\n",
              "      <td>90454.793768</td>\n",
              "      <td>145.066728</td>\n",
              "      <td>77.551349</td>\n",
              "      <td>76.942339</td>\n",
              "      <td>87142.104920</td>\n",
              "      <td>194.448095</td>\n",
              "      <td>35.000518</td>\n",
              "      <td>29.279797</td>\n",
              "      <td>519.918400</td>\n",
              "      <td>35.984552</td>\n",
              "      <td>23.838385</td>\n",
              "      <td>392.581890</td>\n",
              "      <td>3178.496543</td>\n",
              "      <td>392.419773</td>\n",
              "      <td>390.941887</td>\n",
              "      <td>3.141749e+05</td>\n",
              "      <td>3.833668e+05</td>\n",
              "      <td>3.141638e+05</td>\n",
              "      <td>3.141799e+05</td>\n",
              "      <td>0.0</td>\n",
              "      <td>0.0</td>\n",
              "      <td>0.0</td>\n",
              "      <td>0.0</td>\n",
              "    </tr>\n",
              "    <tr>\n",
              "      <th>Difference of Means</th>\n",
              "      <td>0.551528</td>\n",
              "      <td>-0.003358</td>\n",
              "      <td>0.540445</td>\n",
              "      <td>0.562087</td>\n",
              "      <td>1.423283</td>\n",
              "      <td>0.013476</td>\n",
              "      <td>1.445917</td>\n",
              "      <td>1.386669</td>\n",
              "      <td>1.217925</td>\n",
              "      <td>0.001688</td>\n",
              "      <td>1.237698</td>\n",
              "      <td>1.217838</td>\n",
              "      <td>1.024525</td>\n",
              "      <td>-0.000071</td>\n",
              "      <td>1.024153</td>\n",
              "      <td>0.996860</td>\n",
              "      <td>1.408279</td>\n",
              "      <td>0.003611</td>\n",
              "      <td>1.423405</td>\n",
              "      <td>1.402137</td>\n",
              "      <td>1.539568</td>\n",
              "      <td>0.007728</td>\n",
              "      <td>1.562712</td>\n",
              "      <td>1.523180</td>\n",
              "      <td>1.356012</td>\n",
              "      <td>0.012280</td>\n",
              "      <td>1.399388</td>\n",
              "      <td>1.330682</td>\n",
              "      <td>1.563078</td>\n",
              "      <td>0.010505</td>\n",
              "      <td>1.603511</td>\n",
              "      <td>1.506289</td>\n",
              "      <td>1.337767</td>\n",
              "      <td>0.002315</td>\n",
              "      <td>1.352386</td>\n",
              "      <td>1.320092</td>\n",
              "      <td>1.484413</td>\n",
              "      <td>0.013622</td>\n",
              "      <td>1.524589</td>\n",
              "      <td>1.451955</td>\n",
              "      <td>...</td>\n",
              "      <td>-2.284859e+07</td>\n",
              "      <td>1.052377e+14</td>\n",
              "      <td>-1.941352e+07</td>\n",
              "      <td>-2.544194e+07</td>\n",
              "      <td>0.0</td>\n",
              "      <td>0.0</td>\n",
              "      <td>0.0</td>\n",
              "      <td>0.0</td>\n",
              "      <td>3.168448e+02</td>\n",
              "      <td>0.0</td>\n",
              "      <td>3.168448e+02</td>\n",
              "      <td>3.168448e+02</td>\n",
              "      <td>-1.865307</td>\n",
              "      <td>0.0</td>\n",
              "      <td>-1.865307</td>\n",
              "      <td>-1.865307</td>\n",
              "      <td>5.457816</td>\n",
              "      <td>-59865.203836</td>\n",
              "      <td>3.035294</td>\n",
              "      <td>9.259724</td>\n",
              "      <td>13.465720</td>\n",
              "      <td>-53609.429055</td>\n",
              "      <td>13.209386</td>\n",
              "      <td>15.684603</td>\n",
              "      <td>17.495549</td>\n",
              "      <td>1114.393962</td>\n",
              "      <td>20.882150</td>\n",
              "      <td>15.034019</td>\n",
              "      <td>540.877426</td>\n",
              "      <td>3980.275001</td>\n",
              "      <td>544.665577</td>\n",
              "      <td>536.005749</td>\n",
              "      <td>3.654892e+04</td>\n",
              "      <td>2.283801e+09</td>\n",
              "      <td>3.904500e+04</td>\n",
              "      <td>3.440078e+04</td>\n",
              "      <td>0.0</td>\n",
              "      <td>0.0</td>\n",
              "      <td>0.0</td>\n",
              "      <td>0.0</td>\n",
              "    </tr>\n",
              "    <tr>\n",
              "      <th>Half Width</th>\n",
              "      <td>1.100184</td>\n",
              "      <td>0.067056</td>\n",
              "      <td>1.114006</td>\n",
              "      <td>1.088100</td>\n",
              "      <td>1.157651</td>\n",
              "      <td>0.073714</td>\n",
              "      <td>1.168838</td>\n",
              "      <td>1.151981</td>\n",
              "      <td>1.124947</td>\n",
              "      <td>0.078874</td>\n",
              "      <td>1.160405</td>\n",
              "      <td>1.092603</td>\n",
              "      <td>1.097724</td>\n",
              "      <td>0.072039</td>\n",
              "      <td>1.127959</td>\n",
              "      <td>1.092395</td>\n",
              "      <td>1.176652</td>\n",
              "      <td>0.077851</td>\n",
              "      <td>1.213365</td>\n",
              "      <td>1.133920</td>\n",
              "      <td>1.291371</td>\n",
              "      <td>0.078570</td>\n",
              "      <td>1.342177</td>\n",
              "      <td>1.240850</td>\n",
              "      <td>1.069760</td>\n",
              "      <td>0.061643</td>\n",
              "      <td>1.089076</td>\n",
              "      <td>1.053331</td>\n",
              "      <td>1.291423</td>\n",
              "      <td>0.093007</td>\n",
              "      <td>1.348289</td>\n",
              "      <td>1.249898</td>\n",
              "      <td>1.148643</td>\n",
              "      <td>0.076435</td>\n",
              "      <td>1.171086</td>\n",
              "      <td>1.152545</td>\n",
              "      <td>1.193122</td>\n",
              "      <td>0.069506</td>\n",
              "      <td>1.221496</td>\n",
              "      <td>1.178855</td>\n",
              "      <td>...</td>\n",
              "      <td>2.395272e+07</td>\n",
              "      <td>7.502228e+13</td>\n",
              "      <td>2.302210e+07</td>\n",
              "      <td>2.464442e+07</td>\n",
              "      <td>NaN</td>\n",
              "      <td>NaN</td>\n",
              "      <td>NaN</td>\n",
              "      <td>NaN</td>\n",
              "      <td>4.610511e+02</td>\n",
              "      <td>NaN</td>\n",
              "      <td>4.610511e+02</td>\n",
              "      <td>4.610511e+02</td>\n",
              "      <td>3.017909</td>\n",
              "      <td>NaN</td>\n",
              "      <td>3.017909</td>\n",
              "      <td>3.017909</td>\n",
              "      <td>52.520964</td>\n",
              "      <td>36132.694140</td>\n",
              "      <td>76.564910</td>\n",
              "      <td>45.366575</td>\n",
              "      <td>38.112270</td>\n",
              "      <td>85289.176937</td>\n",
              "      <td>107.193130</td>\n",
              "      <td>15.248600</td>\n",
              "      <td>14.297387</td>\n",
              "      <td>512.211145</td>\n",
              "      <td>17.623970</td>\n",
              "      <td>11.641434</td>\n",
              "      <td>181.783512</td>\n",
              "      <td>1992.060355</td>\n",
              "      <td>182.114752</td>\n",
              "      <td>180.658775</td>\n",
              "      <td>1.729221e+05</td>\n",
              "      <td>1.135707e+09</td>\n",
              "      <td>1.731018e+05</td>\n",
              "      <td>1.727565e+05</td>\n",
              "      <td>NaN</td>\n",
              "      <td>NaN</td>\n",
              "      <td>NaN</td>\n",
              "      <td>NaN</td>\n",
              "    </tr>\n",
              "  </tbody>\n",
              "</table>\n",
              "<p>6 rows × 460 columns</p>\n",
              "</div>"
            ],
            "text/plain": [
              "                               avg:ambient  ...  min:swap_total\n",
              "Mean of Label 0                  19.856986  ...       4194240.0\n",
              "Mean of Label 2                  19.305457  ...       4194240.0\n",
              "Standart Deviation of Label 0     1.912759  ...             0.0\n",
              "Standart Deviation of Label 2     2.174965  ...             0.0\n",
              "Difference of Means               0.551528  ...             0.0\n",
              "Half Width                        1.100184  ...             NaN\n",
              "\n",
              "[6 rows x 460 columns]"
            ]
          },
          "metadata": {},
          "execution_count": 35
        }
      ]
    },
    {
      "cell_type": "code",
      "metadata": {
        "id": "mGu_ffo_5mpl",
        "colab": {
          "base_uri": "https://localhost:8080/"
        },
        "outputId": "ac76f2a5-121a-4927-942a-8034ebf556a2"
      },
      "source": [
        "filtered_cols = []\n",
        "for col in df_confidence:\n",
        "  mean = df_confidence[col].loc[\"Difference of Means\"]\n",
        "  hw = df_confidence[col].loc[\"Half Width\"]\n",
        "  if np.abs(mean) > np.abs(hw)*2:\n",
        "    filtered_cols.append(col)\n",
        "print(len(filtered_cols))\n",
        "df_confidence[filtered_cols]"
      ],
      "execution_count": null,
      "outputs": [
        {
          "output_type": "stream",
          "name": "stdout",
          "text": [
            "38\n"
          ]
        },
        {
          "output_type": "execute_result",
          "data": {
            "text/html": [
              "<div>\n",
              "<style scoped>\n",
              "    .dataframe tbody tr th:only-of-type {\n",
              "        vertical-align: middle;\n",
              "    }\n",
              "\n",
              "    .dataframe tbody tr th {\n",
              "        vertical-align: top;\n",
              "    }\n",
              "\n",
              "    .dataframe thead th {\n",
              "        text-align: right;\n",
              "    }\n",
              "</style>\n",
              "<table border=\"1\" class=\"dataframe\">\n",
              "  <thead>\n",
              "    <tr style=\"text-align: right;\">\n",
              "      <th></th>\n",
              "      <th>max:p0_core12_temp</th>\n",
              "      <th>min:p0_core12_temp</th>\n",
              "      <th>avg:p0_core13_temp</th>\n",
              "      <th>max:p0_core13_temp</th>\n",
              "      <th>min:p0_core13_temp</th>\n",
              "      <th>avg:p0_core16_temp</th>\n",
              "      <th>max:p0_core16_temp</th>\n",
              "      <th>min:p0_core16_temp</th>\n",
              "      <th>avg:p0_core17_temp</th>\n",
              "      <th>max:p0_core17_temp</th>\n",
              "      <th>min:p0_core17_temp</th>\n",
              "      <th>avg:p0_core18_temp</th>\n",
              "      <th>max:p0_core18_temp</th>\n",
              "      <th>min:p0_core18_temp</th>\n",
              "      <th>avg:p0_core19_temp</th>\n",
              "      <th>min:p0_core19_temp</th>\n",
              "      <th>min:p0_core22_temp</th>\n",
              "      <th>min:p0_core23_temp</th>\n",
              "      <th>avg:p0_core2_temp</th>\n",
              "      <th>max:p0_core2_temp</th>\n",
              "      <th>max:p0_core3_temp</th>\n",
              "      <th>max:p0_core4_temp</th>\n",
              "      <th>max:p0_power</th>\n",
              "      <th>avg:p0_vdd_temp</th>\n",
              "      <th>max:p0_vdd_temp</th>\n",
              "      <th>min:p1_core5_temp</th>\n",
              "      <th>avg:ps0_output_volta</th>\n",
              "      <th>min:ps0_output_volta</th>\n",
              "      <th>avg:ps1_output_volta</th>\n",
              "      <th>min:ps1_output_volta</th>\n",
              "      <th>var:load_fifteen</th>\n",
              "      <th>var:load_five</th>\n",
              "      <th>var:load_one</th>\n",
              "      <th>var:proc_run</th>\n",
              "      <th>avg:proc_total</th>\n",
              "      <th>max:proc_total</th>\n",
              "      <th>min:proc_total</th>\n",
              "      <th>var:swap_free</th>\n",
              "    </tr>\n",
              "  </thead>\n",
              "  <tbody>\n",
              "    <tr>\n",
              "      <th>Mean of Label 0</th>\n",
              "      <td>46.723008</td>\n",
              "      <td>42.700558</td>\n",
              "      <td>42.902664</td>\n",
              "      <td>44.624968</td>\n",
              "      <td>41.250130</td>\n",
              "      <td>43.481056</td>\n",
              "      <td>45.528809</td>\n",
              "      <td>41.541331</td>\n",
              "      <td>43.595976</td>\n",
              "      <td>45.607903</td>\n",
              "      <td>41.633662</td>\n",
              "      <td>43.193248</td>\n",
              "      <td>44.992603</td>\n",
              "      <td>41.411627</td>\n",
              "      <td>43.645880</td>\n",
              "      <td>41.647223</td>\n",
              "      <td>41.271152</td>\n",
              "      <td>41.426486</td>\n",
              "      <td>45.577389</td>\n",
              "      <td>47.655204</td>\n",
              "      <td>47.518622</td>\n",
              "      <td>48.984557</td>\n",
              "      <td>102.665455</td>\n",
              "      <td>34.293636</td>\n",
              "      <td>34.888334</td>\n",
              "      <td>43.448157</td>\n",
              "      <td>12.224753</td>\n",
              "      <td>12.215112</td>\n",
              "      <td>12.224786</td>\n",
              "      <td>12.215157</td>\n",
              "      <td>28.215034</td>\n",
              "      <td>144.763051</td>\n",
              "      <td>633.579351</td>\n",
              "      <td>1213.022004</td>\n",
              "      <td>2635.182452</td>\n",
              "      <td>2643.398910</td>\n",
              "      <td>2625.770828</td>\n",
              "      <td>2.283814e+09</td>\n",
              "    </tr>\n",
              "    <tr>\n",
              "      <th>Mean of Label 2</th>\n",
              "      <td>36.361905</td>\n",
              "      <td>34.171429</td>\n",
              "      <td>34.549350</td>\n",
              "      <td>35.447619</td>\n",
              "      <td>33.546032</td>\n",
              "      <td>34.634497</td>\n",
              "      <td>35.987302</td>\n",
              "      <td>33.419048</td>\n",
              "      <td>34.716470</td>\n",
              "      <td>35.920635</td>\n",
              "      <td>33.507937</td>\n",
              "      <td>34.488587</td>\n",
              "      <td>35.457143</td>\n",
              "      <td>33.406349</td>\n",
              "      <td>34.792570</td>\n",
              "      <td>33.409524</td>\n",
              "      <td>33.415873</td>\n",
              "      <td>33.514286</td>\n",
              "      <td>35.895790</td>\n",
              "      <td>36.876190</td>\n",
              "      <td>36.838095</td>\n",
              "      <td>38.165079</td>\n",
              "      <td>51.815873</td>\n",
              "      <td>29.912804</td>\n",
              "      <td>30.206349</td>\n",
              "      <td>36.415873</td>\n",
              "      <td>12.325661</td>\n",
              "      <td>12.320000</td>\n",
              "      <td>12.325778</td>\n",
              "      <td>12.320000</td>\n",
              "      <td>0.289675</td>\n",
              "      <td>1.728643</td>\n",
              "      <td>13.603451</td>\n",
              "      <td>98.628042</td>\n",
              "      <td>2094.305026</td>\n",
              "      <td>2098.733333</td>\n",
              "      <td>2089.765079</td>\n",
              "      <td>1.269376e+04</td>\n",
              "    </tr>\n",
              "    <tr>\n",
              "      <th>Standart Deviation of Label 0</th>\n",
              "      <td>8.191491</td>\n",
              "      <td>6.551023</td>\n",
              "      <td>6.518244</td>\n",
              "      <td>7.158137</td>\n",
              "      <td>5.787552</td>\n",
              "      <td>7.168776</td>\n",
              "      <td>7.780247</td>\n",
              "      <td>6.152787</td>\n",
              "      <td>7.459194</td>\n",
              "      <td>8.197614</td>\n",
              "      <td>6.304241</td>\n",
              "      <td>7.048338</td>\n",
              "      <td>7.912131</td>\n",
              "      <td>6.127431</td>\n",
              "      <td>7.276034</td>\n",
              "      <td>6.254775</td>\n",
              "      <td>6.021724</td>\n",
              "      <td>6.191123</td>\n",
              "      <td>7.079425</td>\n",
              "      <td>7.262682</td>\n",
              "      <td>7.856865</td>\n",
              "      <td>7.489048</td>\n",
              "      <td>42.637044</td>\n",
              "      <td>3.315344</td>\n",
              "      <td>3.532615</td>\n",
              "      <td>6.377548</td>\n",
              "      <td>0.054281</td>\n",
              "      <td>0.038943</td>\n",
              "      <td>0.053315</td>\n",
              "      <td>0.038891</td>\n",
              "      <td>28.152742</td>\n",
              "      <td>144.787631</td>\n",
              "      <td>631.695364</td>\n",
              "      <td>1231.197029</td>\n",
              "      <td>271.996072</td>\n",
              "      <td>273.822881</td>\n",
              "      <td>269.106913</td>\n",
              "      <td>2.934298e+09</td>\n",
              "    </tr>\n",
              "    <tr>\n",
              "      <th>Standart Deviation of Label 2</th>\n",
              "      <td>10.407325</td>\n",
              "      <td>8.485513</td>\n",
              "      <td>8.205043</td>\n",
              "      <td>8.732311</td>\n",
              "      <td>7.432937</td>\n",
              "      <td>8.547597</td>\n",
              "      <td>9.539372</td>\n",
              "      <td>7.484222</td>\n",
              "      <td>8.842820</td>\n",
              "      <td>9.556599</td>\n",
              "      <td>7.639822</td>\n",
              "      <td>8.331446</td>\n",
              "      <td>8.965798</td>\n",
              "      <td>7.465320</td>\n",
              "      <td>8.906071</td>\n",
              "      <td>7.570761</td>\n",
              "      <td>7.619760</td>\n",
              "      <td>7.723143</td>\n",
              "      <td>10.395374</td>\n",
              "      <td>10.803029</td>\n",
              "      <td>10.909442</td>\n",
              "      <td>11.902383</td>\n",
              "      <td>50.037161</td>\n",
              "      <td>4.687664</td>\n",
              "      <td>4.866334</td>\n",
              "      <td>6.681042</td>\n",
              "      <td>0.113340</td>\n",
              "      <td>0.113942</td>\n",
              "      <td>0.113671</td>\n",
              "      <td>0.113942</td>\n",
              "      <td>2.307588</td>\n",
              "      <td>15.288207</td>\n",
              "      <td>85.179718</td>\n",
              "      <td>519.918400</td>\n",
              "      <td>392.581890</td>\n",
              "      <td>392.419773</td>\n",
              "      <td>390.941887</td>\n",
              "      <td>3.833668e+05</td>\n",
              "    </tr>\n",
              "    <tr>\n",
              "      <th>Difference of Means</th>\n",
              "      <td>10.361103</td>\n",
              "      <td>8.529129</td>\n",
              "      <td>8.353314</td>\n",
              "      <td>9.177349</td>\n",
              "      <td>7.704098</td>\n",
              "      <td>8.846558</td>\n",
              "      <td>9.541507</td>\n",
              "      <td>8.122284</td>\n",
              "      <td>8.879506</td>\n",
              "      <td>9.687268</td>\n",
              "      <td>8.125726</td>\n",
              "      <td>8.704661</td>\n",
              "      <td>9.535460</td>\n",
              "      <td>8.005278</td>\n",
              "      <td>8.853310</td>\n",
              "      <td>8.237699</td>\n",
              "      <td>7.855279</td>\n",
              "      <td>7.912200</td>\n",
              "      <td>9.681599</td>\n",
              "      <td>10.779013</td>\n",
              "      <td>10.680527</td>\n",
              "      <td>10.819478</td>\n",
              "      <td>50.849582</td>\n",
              "      <td>4.380831</td>\n",
              "      <td>4.681985</td>\n",
              "      <td>7.032284</td>\n",
              "      <td>-0.100909</td>\n",
              "      <td>-0.104888</td>\n",
              "      <td>-0.100992</td>\n",
              "      <td>-0.104843</td>\n",
              "      <td>27.925359</td>\n",
              "      <td>143.034408</td>\n",
              "      <td>619.975900</td>\n",
              "      <td>1114.393962</td>\n",
              "      <td>540.877426</td>\n",
              "      <td>544.665577</td>\n",
              "      <td>536.005749</td>\n",
              "      <td>2.283801e+09</td>\n",
              "    </tr>\n",
              "    <tr>\n",
              "      <th>Half Width</th>\n",
              "      <td>5.034521</td>\n",
              "      <td>4.075659</td>\n",
              "      <td>3.983046</td>\n",
              "      <td>4.290733</td>\n",
              "      <td>3.581276</td>\n",
              "      <td>4.238622</td>\n",
              "      <td>4.677972</td>\n",
              "      <td>3.681672</td>\n",
              "      <td>4.395331</td>\n",
              "      <td>4.783200</td>\n",
              "      <td>3.763803</td>\n",
              "      <td>4.146105</td>\n",
              "      <td>4.542019</td>\n",
              "      <td>3.670047</td>\n",
              "      <td>4.370313</td>\n",
              "      <td>3.731568</td>\n",
              "      <td>3.691636</td>\n",
              "      <td>3.762049</td>\n",
              "      <td>4.788030</td>\n",
              "      <td>4.956440</td>\n",
              "      <td>5.114872</td>\n",
              "      <td>5.358920</td>\n",
              "      <td>24.974924</td>\n",
              "      <td>2.184833</td>\n",
              "      <td>2.287604</td>\n",
              "      <td>3.507431</td>\n",
              "      <td>0.048077</td>\n",
              "      <td>0.046272</td>\n",
              "      <td>0.048048</td>\n",
              "      <td>0.046266</td>\n",
              "      <td>10.927366</td>\n",
              "      <td>56.303728</td>\n",
              "      <td>246.375317</td>\n",
              "      <td>512.211145</td>\n",
              "      <td>181.783512</td>\n",
              "      <td>182.114752</td>\n",
              "      <td>180.658775</td>\n",
              "      <td>1.135707e+09</td>\n",
              "    </tr>\n",
              "  </tbody>\n",
              "</table>\n",
              "</div>"
            ],
            "text/plain": [
              "                               max:p0_core12_temp  ...  var:swap_free\n",
              "Mean of Label 0                         46.723008  ...   2.283814e+09\n",
              "Mean of Label 2                         36.361905  ...   1.269376e+04\n",
              "Standart Deviation of Label 0            8.191491  ...   2.934298e+09\n",
              "Standart Deviation of Label 2           10.407325  ...   3.833668e+05\n",
              "Difference of Means                     10.361103  ...   2.283801e+09\n",
              "Half Width                               5.034521  ...   1.135707e+09\n",
              "\n",
              "[6 rows x 38 columns]"
            ]
          },
          "metadata": {},
          "execution_count": 36
        }
      ]
    },
    {
      "cell_type": "code",
      "metadata": {
        "id": "bmtu9T_x51Ud"
      },
      "source": [
        "df_confidence.to_excel(\"statistics.xlsx\")"
      ],
      "execution_count": null,
      "outputs": []
    }
  ]
}